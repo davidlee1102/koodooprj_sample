{
 "cells": [
  {
   "cell_type": "code",
   "source": [
    "# import locale\n",
    "# locale.getpreferredencoding = lambda: \"UTF-8\""
   ],
   "metadata": {
    "id": "b4dL9avqogaM",
    "pycharm": {
     "name": "#%%\n"
    }
   },
   "execution_count": null,
   "outputs": []
  },
  {
   "cell_type": "code",
   "source": [
    "# import pickle\n",
    "# output = open('pipeline.pkl', 'wb')\n",
    "# pickle.dump(pipeline, output)\n",
    "# output.close()"
   ],
   "metadata": {
    "id": "-Eza5cqjoygd",
    "pycharm": {
     "name": "#%%\n"
    }
   },
   "execution_count": null,
   "outputs": []
  },
  {
   "cell_type": "markdown",
   "source": [
    "#1. WeSpeak Experiment Model"
   ],
   "metadata": {
    "id": "3aFVbsRK2UmT",
    "pycharm": {
     "name": "#%% md\n"
    }
   }
  },
  {
   "cell_type": "code",
   "source": [
    "!pip install git+https://github.com/wenet-e2e/wespeaker.git"
   ],
   "metadata": {
    "id": "WruIaSbz2XEi",
    "pycharm": {
     "name": "#%%\n"
    }
   },
   "execution_count": null,
   "outputs": []
  },
  {
   "cell_type": "code",
   "source": [
    "from google.colab import files\n",
    "files.upload()"
   ],
   "metadata": {
    "colab": {
     "base_uri": "https://localhost:8080/",
     "height": 74
    },
    "id": "m2_auoPx2zta",
    "outputId": "76555bec-dac6-4718-957d-a27a70404638",
    "pycharm": {
     "name": "#%%\n"
    }
   },
   "execution_count": 12,
   "outputs": [
    {
     "output_type": "display_data",
     "data": {
      "text/plain": [
       "<IPython.core.display.HTML object>"
      ],
      "text/html": [
       "\n",
       "     <input type=\"file\" id=\"files-8de2c538-5333-4c31-8cf7-9513682913e5\" name=\"files[]\" multiple disabled\n",
       "        style=\"border:none\" />\n",
       "     <output id=\"result-8de2c538-5333-4c31-8cf7-9513682913e5\">\n",
       "      Upload widget is only available when the cell has been executed in the\n",
       "      current browser session. Please rerun this cell to enable.\n",
       "      </output>\n",
       "      <script>// Copyright 2017 Google LLC\n",
       "//\n",
       "// Licensed under the Apache License, Version 2.0 (the \"License\");\n",
       "// you may not use this file except in compliance with the License.\n",
       "// You may obtain a copy of the License at\n",
       "//\n",
       "//      http://www.apache.org/licenses/LICENSE-2.0\n",
       "//\n",
       "// Unless required by applicable law or agreed to in writing, software\n",
       "// distributed under the License is distributed on an \"AS IS\" BASIS,\n",
       "// WITHOUT WARRANTIES OR CONDITIONS OF ANY KIND, either express or implied.\n",
       "// See the License for the specific language governing permissions and\n",
       "// limitations under the License.\n",
       "\n",
       "/**\n",
       " * @fileoverview Helpers for google.colab Python module.\n",
       " */\n",
       "(function(scope) {\n",
       "function span(text, styleAttributes = {}) {\n",
       "  const element = document.createElement('span');\n",
       "  element.textContent = text;\n",
       "  for (const key of Object.keys(styleAttributes)) {\n",
       "    element.style[key] = styleAttributes[key];\n",
       "  }\n",
       "  return element;\n",
       "}\n",
       "\n",
       "// Max number of bytes which will be uploaded at a time.\n",
       "const MAX_PAYLOAD_SIZE = 100 * 1024;\n",
       "\n",
       "function _uploadFiles(inputId, outputId) {\n",
       "  const steps = uploadFilesStep(inputId, outputId);\n",
       "  const outputElement = document.getElementById(outputId);\n",
       "  // Cache steps on the outputElement to make it available for the next call\n",
       "  // to uploadFilesContinue from Python.\n",
       "  outputElement.steps = steps;\n",
       "\n",
       "  return _uploadFilesContinue(outputId);\n",
       "}\n",
       "\n",
       "// This is roughly an async generator (not supported in the browser yet),\n",
       "// where there are multiple asynchronous steps and the Python side is going\n",
       "// to poll for completion of each step.\n",
       "// This uses a Promise to block the python side on completion of each step,\n",
       "// then passes the result of the previous step as the input to the next step.\n",
       "function _uploadFilesContinue(outputId) {\n",
       "  const outputElement = document.getElementById(outputId);\n",
       "  const steps = outputElement.steps;\n",
       "\n",
       "  const next = steps.next(outputElement.lastPromiseValue);\n",
       "  return Promise.resolve(next.value.promise).then((value) => {\n",
       "    // Cache the last promise value to make it available to the next\n",
       "    // step of the generator.\n",
       "    outputElement.lastPromiseValue = value;\n",
       "    return next.value.response;\n",
       "  });\n",
       "}\n",
       "\n",
       "/**\n",
       " * Generator function which is called between each async step of the upload\n",
       " * process.\n",
       " * @param {string} inputId Element ID of the input file picker element.\n",
       " * @param {string} outputId Element ID of the output display.\n",
       " * @return {!Iterable<!Object>} Iterable of next steps.\n",
       " */\n",
       "function* uploadFilesStep(inputId, outputId) {\n",
       "  const inputElement = document.getElementById(inputId);\n",
       "  inputElement.disabled = false;\n",
       "\n",
       "  const outputElement = document.getElementById(outputId);\n",
       "  outputElement.innerHTML = '';\n",
       "\n",
       "  const pickedPromise = new Promise((resolve) => {\n",
       "    inputElement.addEventListener('change', (e) => {\n",
       "      resolve(e.target.files);\n",
       "    });\n",
       "  });\n",
       "\n",
       "  const cancel = document.createElement('button');\n",
       "  inputElement.parentElement.appendChild(cancel);\n",
       "  cancel.textContent = 'Cancel upload';\n",
       "  const cancelPromise = new Promise((resolve) => {\n",
       "    cancel.onclick = () => {\n",
       "      resolve(null);\n",
       "    };\n",
       "  });\n",
       "\n",
       "  // Wait for the user to pick the files.\n",
       "  const files = yield {\n",
       "    promise: Promise.race([pickedPromise, cancelPromise]),\n",
       "    response: {\n",
       "      action: 'starting',\n",
       "    }\n",
       "  };\n",
       "\n",
       "  cancel.remove();\n",
       "\n",
       "  // Disable the input element since further picks are not allowed.\n",
       "  inputElement.disabled = true;\n",
       "\n",
       "  if (!files) {\n",
       "    return {\n",
       "      response: {\n",
       "        action: 'complete',\n",
       "      }\n",
       "    };\n",
       "  }\n",
       "\n",
       "  for (const file of files) {\n",
       "    const li = document.createElement('li');\n",
       "    li.append(span(file.name, {fontWeight: 'bold'}));\n",
       "    li.append(span(\n",
       "        `(${file.type || 'n/a'}) - ${file.size} bytes, ` +\n",
       "        `last modified: ${\n",
       "            file.lastModifiedDate ? file.lastModifiedDate.toLocaleDateString() :\n",
       "                                    'n/a'} - `));\n",
       "    const percent = span('0% done');\n",
       "    li.appendChild(percent);\n",
       "\n",
       "    outputElement.appendChild(li);\n",
       "\n",
       "    const fileDataPromise = new Promise((resolve) => {\n",
       "      const reader = new FileReader();\n",
       "      reader.onload = (e) => {\n",
       "        resolve(e.target.result);\n",
       "      };\n",
       "      reader.readAsArrayBuffer(file);\n",
       "    });\n",
       "    // Wait for the data to be ready.\n",
       "    let fileData = yield {\n",
       "      promise: fileDataPromise,\n",
       "      response: {\n",
       "        action: 'continue',\n",
       "      }\n",
       "    };\n",
       "\n",
       "    // Use a chunked sending to avoid message size limits. See b/62115660.\n",
       "    let position = 0;\n",
       "    do {\n",
       "      const length = Math.min(fileData.byteLength - position, MAX_PAYLOAD_SIZE);\n",
       "      const chunk = new Uint8Array(fileData, position, length);\n",
       "      position += length;\n",
       "\n",
       "      const base64 = btoa(String.fromCharCode.apply(null, chunk));\n",
       "      yield {\n",
       "        response: {\n",
       "          action: 'append',\n",
       "          file: file.name,\n",
       "          data: base64,\n",
       "        },\n",
       "      };\n",
       "\n",
       "      let percentDone = fileData.byteLength === 0 ?\n",
       "          100 :\n",
       "          Math.round((position / fileData.byteLength) * 100);\n",
       "      percent.textContent = `${percentDone}% done`;\n",
       "\n",
       "    } while (position < fileData.byteLength);\n",
       "  }\n",
       "\n",
       "  // All done.\n",
       "  yield {\n",
       "    response: {\n",
       "      action: 'complete',\n",
       "    }\n",
       "  };\n",
       "}\n",
       "\n",
       "scope.google = scope.google || {};\n",
       "scope.google.colab = scope.google.colab || {};\n",
       "scope.google.colab._files = {\n",
       "  _uploadFiles,\n",
       "  _uploadFilesContinue,\n",
       "};\n",
       "})(self);\n",
       "</script> "
      ]
     },
     "metadata": {}
    },
    {
     "output_type": "stream",
     "name": "stdout",
     "text": [
      "Saving speech_model_embedding.bin to speech_model_embedding.bin\n"
     ]
    }
   ]
  },
  {
   "cell_type": "code",
   "source": [
    "import wespeaker\n",
    "import torch"
   ],
   "metadata": {
    "id": "sg7cI-4B2c3F",
    "pycharm": {
     "name": "#%%\n"
    }
   },
   "execution_count": 8,
   "outputs": []
  },
  {
   "cell_type": "code",
   "source": [
    "model = wespeaker.load_model('english')\n",
    "# model.set_gpu(0)\n",
    "with torch.no_grad():\n",
    "  diar_result = model.diarize('/content/Call-3-Example')"
   ],
   "metadata": {
    "colab": {
     "base_uri": "https://localhost:8080/"
    },
    "id": "6elw1Ak74dKu",
    "outputId": "0ed69689-30d2-4c5a-e674-429dd12833d5",
    "pycharm": {
     "name": "#%%\n"
    }
   },
   "execution_count": 91,
   "outputs": [
    {
     "output_type": "stream",
     "name": "stderr",
     "text": [
      "WARNING:root:unexpected tensor: projection.weight\n",
      "100%|██████████| 4/4 [02:36<00:00, 39.18s/it]\n"
     ]
    }
   ]
  },
  {
   "cell_type": "code",
   "source": [
    "for _, speech_start, speech_end, speaker in diar_result:\n",
    "    print(f\"{speech_start:4.5f} {speech_end:4.5f} SPEAKER_0{speaker}\")"
   ],
   "metadata": {
    "colab": {
     "base_uri": "https://localhost:8080/"
    },
    "id": "P478YnF_5szl",
    "outputId": "f7fdbcf1-1a69-4fc7-b44c-382194c2d5d2",
    "pycharm": {
     "name": "#%%\n"
    }
   },
   "execution_count": 92,
   "outputs": [
    {
     "output_type": "stream",
     "name": "stdout",
     "text": [
      "0.61000 4.06000 SPEAKER_00\n",
      "4.19400 5.43400 SPEAKER_00\n",
      "6.69000 7.90000 SPEAKER_00\n",
      "8.03400 10.01400 SPEAKER_01\n",
      "10.11400 11.83400 SPEAKER_01\n",
      "12.09800 14.00800 SPEAKER_01\n",
      "14.97800 15.54800 SPEAKER_00\n",
      "15.65000 17.02000 SPEAKER_00\n",
      "17.25000 21.27000 SPEAKER_00\n",
      "21.60200 23.32200 SPEAKER_00\n",
      "23.42600 25.65600 SPEAKER_00\n",
      "25.95400 29.27400 SPEAKER_00\n",
      "29.53800 30.58800 SPEAKER_00\n",
      "31.10600 31.76600 SPEAKER_00\n",
      "32.22600 32.88600 SPEAKER_01\n",
      "33.09000 34.01000 SPEAKER_01\n",
      "34.24200 35.70200 SPEAKER_01\n",
      "36.25800 37.68800 SPEAKER_00\n",
      "38.11400 42.52400 SPEAKER_00\n",
      "42.62600 44.50600 SPEAKER_00\n",
      "44.73800 46.67800 SPEAKER_00\n",
      "46.97800 50.45800 SPEAKER_00\n",
      "50.85000 52.19000 SPEAKER_01\n",
      "52.32200 56.86200 SPEAKER_00\n",
      "56.99400 59.25400 SPEAKER_00\n",
      "59.87400 60.98400 SPEAKER_01\n",
      "61.41000 63.13000 SPEAKER_01\n",
      "63.29800 65.84800 SPEAKER_01\n",
      "66.65800 67.47800 SPEAKER_00\n",
      "67.61800 68.75800 SPEAKER_00\n",
      "68.99400 73.94400 SPEAKER_00\n",
      "74.05000 75.92500 SPEAKER_01\n",
      "75.92500 77.05000 SPEAKER_00\n",
      "77.25000 80.60000 SPEAKER_00\n",
      "80.73800 81.36800 SPEAKER_00\n",
      "81.53800 84.53800 SPEAKER_00\n",
      "84.80200 87.51200 SPEAKER_00\n",
      "87.61800 88.47800 SPEAKER_00\n",
      "88.73800 92.31800 SPEAKER_00\n",
      "93.34600 93.78600 SPEAKER_01\n",
      "94.40200 95.19200 SPEAKER_01\n",
      "95.68200 98.42200 SPEAKER_01\n",
      "98.56200 99.67200 SPEAKER_01\n",
      "100.80200 101.66200 SPEAKER_01\n",
      "101.92200 106.01200 SPEAKER_00\n",
      "106.24200 107.10200 SPEAKER_00\n",
      "107.29800 109.87800 SPEAKER_00\n"
     ]
    }
   ]
  },
  {
   "cell_type": "markdown",
   "source": [
    "**Even having GPU - It still taking too long**"
   ],
   "metadata": {
    "id": "RZYesnRG7Z-H",
    "pycharm": {
     "name": "#%% md\n"
    }
   }
  },
  {
   "cell_type": "markdown",
   "source": [
    "# 2. Whisper Experiment Model"
   ],
   "metadata": {
    "id": "1AXXwBKO7gpt",
    "pycharm": {
     "name": "#%% md\n"
    }
   }
  },
  {
   "cell_type": "code",
   "source": [
    "!pip install -q git+https://github.com/openai/whisper.git > /dev/null\n",
    "!pip install -q git+https://github.com/pyannote/pyannote-audio > /dev/null"
   ],
   "metadata": {
    "id": "43ODHRRj8AX-",
    "pycharm": {
     "name": "#%%\n"
    }
   },
   "execution_count": 17,
   "outputs": []
  },
  {
   "cell_type": "code",
   "source": [
    "!pip install pydub"
   ],
   "metadata": {
    "colab": {
     "base_uri": "https://localhost:8080/"
    },
    "id": "pF4VAK3JLf31",
    "outputId": "b32da661-410d-4442-c3ba-93e7c2c21f8e",
    "pycharm": {
     "name": "#%%\n"
    }
   },
   "execution_count": 79,
   "outputs": [
    {
     "output_type": "stream",
     "name": "stdout",
     "text": [
      "Collecting pydub\n",
      "  Downloading pydub-0.25.1-py2.py3-none-any.whl (32 kB)\n",
      "Installing collected packages: pydub\n",
      "Successfully installed pydub-0.25.1\n"
     ]
    }
   ]
  },
  {
   "cell_type": "code",
   "source": [
    "model_name = \"small.en\" # or medium.en"
   ],
   "metadata": {
    "id": "qXgDklQO7X3_",
    "pycharm": {
     "name": "#%%\n"
    }
   },
   "execution_count": 80,
   "outputs": []
  },
  {
   "cell_type": "code",
   "source": [
    "import torch\n",
    "import wave\n",
    "import whisper\n",
    "import datetime\n",
    "import subprocess\n",
    "import contextlib\n",
    "import numpy as np\n",
    "import pyannote.audio\n",
    "\n",
    "from pydub import AudioSegment\n",
    "from pyannote.audio import Audio\n",
    "from pyannote.core import Segment\n",
    "from sklearn.cluster import AgglomerativeClustering, KMeans\n",
    "from pyannote.audio.pipelines.speaker_verification import PretrainedSpeakerEmbedding"
   ],
   "metadata": {
    "id": "H4iLoin28ag7",
    "pycharm": {
     "name": "#%%\n"
    }
   },
   "execution_count": 81,
   "outputs": []
  },
  {
   "cell_type": "code",
   "source": [
    "PATH = \"/content/Call-3-Example\""
   ],
   "metadata": {
    "id": "cV8Lmdp48f3k",
    "pycharm": {
     "name": "#%%\n"
    }
   },
   "execution_count": 21,
   "outputs": []
  },
  {
   "cell_type": "code",
   "source": [
    "model = whisper.load_model(model_name)"
   ],
   "metadata": {
    "colab": {
     "base_uri": "https://localhost:8080/"
    },
    "id": "ZopDKoih9Qf_",
    "outputId": "04b5e524-0d87-422b-8116-ba1d25d0db69",
    "pycharm": {
     "name": "#%%\n"
    }
   },
   "execution_count": 22,
   "outputs": [
    {
     "output_type": "stream",
     "name": "stderr",
     "text": [
      "100%|███████████████████████████████████████| 461M/461M [00:05<00:00, 95.2MiB/s]\n"
     ]
    }
   ]
  },
  {
   "cell_type": "code",
   "source": [
    "diarization = model.transcribe(PATH)"
   ],
   "metadata": {
    "id": "4ZixIZA59K9k",
    "pycharm": {
     "name": "#%%\n"
    }
   },
   "execution_count": 25,
   "outputs": []
  },
  {
   "cell_type": "code",
   "source": [
    "print(diarization)"
   ],
   "metadata": {
    "colab": {
     "base_uri": "https://localhost:8080/"
    },
    "id": "XrhJEtm89_x9",
    "outputId": "9d9b0bd1-0dcf-4c87-d4fe-be3f3086f61e",
    "pycharm": {
     "name": "#%%\n"
    }
   },
   "execution_count": 26,
   "outputs": [
    {
     "output_type": "stream",
     "name": "stdout",
     "text": [
      "{'text': \" Good afternoon, thank you for calling the ghost office. My name is Anna, how may I assist you today? Hi Anna, it's Bob. I'm wondering about the cost to send a £50 box of tea from Shanghai to London. Hi Bob, I'd be happy to help with that. Before we proceed, I need to let you know that this call is being recorded. We may contact you in the future to offer further products and services. You always have the option to withdraw from receiving this contact from us. Is that alright with you? Erm, sure, no problem now about the tea. Thank you for your understanding Bob. Now regarding your enquiry, sending a £50 box from Shanghai to London would depend on a few factors, such as the shipping method, delivery speed and any additional services you might require. For an accurate quote, could you please provide me with more details? Are you looking for standard shipping or express? Do you have any specific preferences? Erm, let's go with the standard shipping. It's just regular tea, nothing fancy. Got it Bob, thank you for clarifying. Standard shipping for a £50 box from Shanghai to London typically falls within £100 to £200 based on our current rates. Please note that this is an estimate and the final course may vary based on specific requirements or promotions. I recommend checking our website or visiting your local ghost office branch for the most accurate and up-to-date information. Cool, that sounds fair. I'll check out with the website for more details. Thanks for your help Anna. You're welcome Bob. If you have any more questions or if there is anything else I can assist you with, feel free to ask. Thank you for choosing the ghost office. Have a great day!\", 'segments': [{'id': 0, 'seek': 0, 'start': 0.0, 'end': 6.0, 'text': ' Good afternoon, thank you for calling the ghost office. My name is Anna, how may I assist you today?', 'tokens': [50363, 4599, 6672, 11, 5875, 345, 329, 4585, 262, 10905, 2607, 13, 2011, 1438, 318, 11735, 11, 703, 743, 314, 3342, 345, 1909, 30, 50663], 'temperature': 0.0, 'avg_logprob': -0.14521686703551048, 'compression_ratio': 1.4752851711026616, 'no_speech_prob': 0.18776708841323853}, {'id': 1, 'seek': 0, 'start': 6.0, 'end': 14.0, 'text': \" Hi Anna, it's Bob. I'm wondering about the cost to send a £50 box of tea from Shanghai to London.\", 'tokens': [50663, 15902, 11735, 11, 340, 338, 5811, 13, 314, 1101, 11263, 546, 262, 1575, 284, 3758, 257, 4248, 1120, 3091, 286, 8887, 422, 21865, 284, 3576, 13, 51063], 'temperature': 0.0, 'avg_logprob': -0.14521686703551048, 'compression_ratio': 1.4752851711026616, 'no_speech_prob': 0.18776708841323853}, {'id': 2, 'seek': 0, 'start': 14.0, 'end': 21.0, 'text': \" Hi Bob, I'd be happy to help with that. Before we proceed, I need to let you know that this call is being recorded.\", 'tokens': [51063, 15902, 5811, 11, 314, 1549, 307, 3772, 284, 1037, 351, 326, 13, 7413, 356, 5120, 11, 314, 761, 284, 1309, 345, 760, 326, 428, 869, 318, 852, 6264, 13, 51413], 'temperature': 0.0, 'avg_logprob': -0.14521686703551048, 'compression_ratio': 1.4752851711026616, 'no_speech_prob': 0.18776708841323853}, {'id': 3, 'seek': 0, 'start': 21.0, 'end': 25.0, 'text': ' We may contact you in the future to offer further products and services.', 'tokens': [51413, 775, 743, 2800, 345, 287, 262, 2003, 284, 2897, 2252, 3186, 290, 2594, 13, 51613], 'temperature': 0.0, 'avg_logprob': -0.14521686703551048, 'compression_ratio': 1.4752851711026616, 'no_speech_prob': 0.18776708841323853}, {'id': 4, 'seek': 2500, 'start': 26.0, 'end': 31.0, 'text': ' You always have the option to withdraw from receiving this contact from us. Is that alright with you?', 'tokens': [50413, 921, 1464, 423, 262, 3038, 284, 8399, 422, 6464, 428, 2800, 422, 514, 13, 1148, 326, 23036, 351, 345, 30, 50663], 'temperature': 0.0, 'avg_logprob': -0.1365005558934705, 'compression_ratio': 1.4860557768924303, 'no_speech_prob': 0.3084438145160675}, {'id': 5, 'seek': 2500, 'start': 31.0, 'end': 36.0, 'text': ' Erm, sure, no problem now about the tea.', 'tokens': [50663, 5256, 76, 11, 1654, 11, 645, 1917, 783, 546, 262, 8887, 13, 50913], 'temperature': 0.0, 'avg_logprob': -0.1365005558934705, 'compression_ratio': 1.4860557768924303, 'no_speech_prob': 0.3084438145160675}, {'id': 6, 'seek': 2500, 'start': 36.0, 'end': 44.0, 'text': ' Thank you for your understanding Bob. Now regarding your enquiry, sending a £50 box from Shanghai to London would depend on a few factors,', 'tokens': [50913, 6952, 345, 329, 534, 4547, 5811, 13, 2735, 5115, 534, 34593, 9045, 11, 7216, 257, 4248, 1120, 3091, 422, 21865, 284, 3576, 561, 4745, 319, 257, 1178, 5087, 11, 51313], 'temperature': 0.0, 'avg_logprob': -0.1365005558934705, 'compression_ratio': 1.4860557768924303, 'no_speech_prob': 0.3084438145160675}, {'id': 7, 'seek': 2500, 'start': 44.0, 'end': 50.0, 'text': ' such as the shipping method, delivery speed and any additional services you might require.', 'tokens': [51313, 884, 355, 262, 8440, 2446, 11, 7585, 2866, 290, 597, 3224, 2594, 345, 1244, 2421, 13, 51613], 'temperature': 0.0, 'avg_logprob': -0.1365005558934705, 'compression_ratio': 1.4860557768924303, 'no_speech_prob': 0.3084438145160675}, {'id': 8, 'seek': 5000, 'start': 51.0, 'end': 57.0, 'text': ' For an accurate quote, could you please provide me with more details? Are you looking for standard shipping or express?', 'tokens': [50413, 1114, 281, 7187, 9577, 11, 714, 345, 3387, 2148, 502, 351, 517, 3307, 30, 4231, 345, 2045, 329, 3210, 8440, 393, 4911, 30, 50713], 'temperature': 0.0, 'avg_logprob': -0.10976788432327743, 'compression_ratio': 1.5190839694656488, 'no_speech_prob': 0.08863771706819534}, {'id': 9, 'seek': 5000, 'start': 57.0, 'end': 60.0, 'text': ' Do you have any specific preferences?', 'tokens': [50713, 2141, 345, 423, 597, 2176, 15387, 30, 50863], 'temperature': 0.0, 'avg_logprob': -0.10976788432327743, 'compression_ratio': 1.5190839694656488, 'no_speech_prob': 0.08863771706819534}, {'id': 10, 'seek': 5000, 'start': 60.0, 'end': 66.0, 'text': \" Erm, let's go with the standard shipping. It's just regular tea, nothing fancy.\", 'tokens': [50863, 5256, 76, 11, 1309, 338, 467, 351, 262, 3210, 8440, 13, 632, 338, 655, 3218, 8887, 11, 2147, 14996, 13, 51163], 'temperature': 0.0, 'avg_logprob': -0.10976788432327743, 'compression_ratio': 1.5190839694656488, 'no_speech_prob': 0.08863771706819534}, {'id': 11, 'seek': 5000, 'start': 66.0, 'end': 69.0, 'text': ' Got it Bob, thank you for clarifying.', 'tokens': [51163, 11853, 340, 5811, 11, 5875, 345, 329, 10212, 4035, 13, 51313], 'temperature': 0.0, 'avg_logprob': -0.10976788432327743, 'compression_ratio': 1.5190839694656488, 'no_speech_prob': 0.08863771706819534}, {'id': 12, 'seek': 5000, 'start': 69.0, 'end': 77.0, 'text': ' Standard shipping for a £50 box from Shanghai to London typically falls within £100 to £200 based on our current rates.', 'tokens': [51313, 8997, 8440, 329, 257, 4248, 1120, 3091, 422, 21865, 284, 3576, 6032, 8953, 1626, 4248, 3064, 284, 4248, 2167, 1912, 319, 674, 1459, 3965, 13, 51713], 'temperature': 0.0, 'avg_logprob': -0.10976788432327743, 'compression_ratio': 1.5190839694656488, 'no_speech_prob': 0.08863771706819534}, {'id': 13, 'seek': 7700, 'start': 77.0, 'end': 84.0, 'text': ' Please note that this is an estimate and the final course may vary based on specific requirements or promotions.', 'tokens': [50363, 4222, 3465, 326, 428, 318, 281, 8636, 290, 262, 2457, 1781, 743, 7565, 1912, 319, 2176, 5359, 393, 20699, 13, 50713], 'temperature': 0.0, 'avg_logprob': -0.09486447652180989, 'compression_ratio': 1.5201793721973094, 'no_speech_prob': 0.06099782884120941}, {'id': 14, 'seek': 7700, 'start': 84.0, 'end': 92.0, 'text': ' I recommend checking our website or visiting your local ghost office branch for the most accurate and up-to-date information.', 'tokens': [50713, 314, 4313, 10627, 674, 3052, 393, 10013, 534, 1957, 10905, 2607, 8478, 329, 262, 749, 7187, 290, 510, 12, 1462, 12, 4475, 1321, 13, 51113], 'temperature': 0.0, 'avg_logprob': -0.09486447652180989, 'compression_ratio': 1.5201793721973094, 'no_speech_prob': 0.06099782884120941}, {'id': 15, 'seek': 7700, 'start': 92.0, 'end': 100.0, 'text': \" Cool, that sounds fair. I'll check out with the website for more details. Thanks for your help Anna.\", 'tokens': [51113, 15226, 11, 326, 5238, 3148, 13, 314, 1183, 2198, 503, 351, 262, 3052, 329, 517, 3307, 13, 6930, 329, 534, 1037, 11735, 13, 51513], 'temperature': 0.0, 'avg_logprob': -0.09486447652180989, 'compression_ratio': 1.5201793721973094, 'no_speech_prob': 0.06099782884120941}, {'id': 16, 'seek': 10000, 'start': 100.0, 'end': 107.0, 'text': \" You're welcome Bob. If you have any more questions or if there is anything else I can assist you with, feel free to ask.\", 'tokens': [50363, 921, 821, 7062, 5811, 13, 1002, 345, 423, 597, 517, 2683, 393, 611, 612, 318, 1997, 2073, 314, 460, 3342, 345, 351, 11, 1254, 1479, 284, 1265, 13, 50713], 'temperature': 0.0, 'avg_logprob': -0.09942100359045941, 'compression_ratio': 1.3065693430656935, 'no_speech_prob': 0.2599872052669525}, {'id': 17, 'seek': 10000, 'start': 107.0, 'end': 110.0, 'text': ' Thank you for choosing the ghost office. Have a great day!', 'tokens': [50713, 6952, 345, 329, 11236, 262, 10905, 2607, 13, 8192, 257, 1049, 1110, 0, 50863], 'temperature': 0.0, 'avg_logprob': -0.09942100359045941, 'compression_ratio': 1.3065693430656935, 'no_speech_prob': 0.2599872052669525}], 'language': 'en'}\n"
     ]
    }
   ]
  },
  {
   "cell_type": "code",
   "source": [
    "conversation_convert = diarization.get(\"text\", \"\")"
   ],
   "metadata": {
    "id": "ODlk5btC-NPO",
    "pycharm": {
     "name": "#%%\n"
    }
   },
   "execution_count": 27,
   "outputs": []
  },
  {
   "cell_type": "code",
   "source": [
    "conversation_convert"
   ],
   "metadata": {
    "colab": {
     "base_uri": "https://localhost:8080/",
     "height": 214
    },
    "id": "fC3tXBCa-6qj",
    "outputId": "634dc997-70d4-43c0-ce88-816eee85f60e",
    "pycharm": {
     "name": "#%%\n"
    }
   },
   "execution_count": 28,
   "outputs": [
    {
     "output_type": "execute_result",
     "data": {
      "text/plain": [
       "\" Good afternoon, thank you for calling the ghost office. My name is Anna, how may I assist you today? Hi Anna, it's Bob. I'm wondering about the cost to send a £50 box of tea from Shanghai to London. Hi Bob, I'd be happy to help with that. Before we proceed, I need to let you know that this call is being recorded. We may contact you in the future to offer further products and services. You always have the option to withdraw from receiving this contact from us. Is that alright with you? Erm, sure, no problem now about the tea. Thank you for your understanding Bob. Now regarding your enquiry, sending a £50 box from Shanghai to London would depend on a few factors, such as the shipping method, delivery speed and any additional services you might require. For an accurate quote, could you please provide me with more details? Are you looking for standard shipping or express? Do you have any specific preferences? Erm, let's go with the standard shipping. It's just regular tea, nothing fancy. Got it Bob, thank you for clarifying. Standard shipping for a £50 box from Shanghai to London typically falls within £100 to £200 based on our current rates. Please note that this is an estimate and the final course may vary based on specific requirements or promotions. I recommend checking our website or visiting your local ghost office branch for the most accurate and up-to-date information. Cool, that sounds fair. I'll check out with the website for more details. Thanks for your help Anna. You're welcome Bob. If you have any more questions or if there is anything else I can assist you with, feel free to ask. Thank you for choosing the ghost office. Have a great day!\""
      ],
      "application/vnd.google.colaboratory.intrinsic+json": {
       "type": "string"
      }
     },
     "metadata": {},
     "execution_count": 28
    }
   ]
  },
  {
   "cell_type": "code",
   "source": [
    "embedding_model = PretrainedSpeakerEmbedding(\"/content/speech_model_embedding.bin\")"
   ],
   "metadata": {
    "colab": {
     "base_uri": "https://localhost:8080/"
    },
    "id": "WRashscJ_m6B",
    "outputId": "3e0d7901-7174-4cf7-e1bd-4bc70f1137bc",
    "pycharm": {
     "name": "#%%\n"
    }
   },
   "execution_count": 30,
   "outputs": [
    {
     "output_type": "stream",
     "name": "stderr",
     "text": [
      "INFO:pytorch_lightning.utilities.migration.utils:Lightning automatically upgraded your loaded checkpoint from v1.2.7 to v2.2.1. To apply the upgrade to your files permanently, run `python -m pytorch_lightning.utilities.upgrade_checkpoint speech_model_embedding.bin`\n"
     ]
    },
    {
     "output_type": "stream",
     "name": "stdout",
     "text": [
      "Model was trained with pyannote.audio 0.0.1, yours is 3.1.1. Bad things might happen unless you revert pyannote.audio to 0.x.\n",
      "Model was trained with torch 1.8.1+cu102, yours is 2.2.1+cu121. Bad things might happen unless you revert torch to 1.x.\n"
     ]
    }
   ]
  },
  {
   "cell_type": "code",
   "source": [
    "audio = Audio()\n",
    "\n",
    "def segment_embedding(segment, embedding_model ,PATH):\n",
    "  audio_segment = AudioSegment.from_file(PATH)\n",
    "  start = segment[\"start\"]\n",
    "  end = segment[\"end\"]\n",
    "  clip = Segment(start, end)\n",
    "  waveform, sample_rate = audio.crop(PATH, clip)\n",
    "  audio_record = audio_segment[start:end]\n",
    "  mono_waveform = torch.mean(waveform, dim=0, keepdim=True)\n",
    "  return audio_record, embedding_model(mono_waveform)"
   ],
   "metadata": {
    "id": "MukepDYu97ja",
    "pycharm": {
     "name": "#%%\n"
    }
   },
   "execution_count": 82,
   "outputs": []
  },
  {
   "cell_type": "code",
   "source": [
    "def speech_discriminate(segments, embedding_model, num_speakers, PATH):\n",
    "\n",
    "  embeddings = np.zeros(shape=(len(segments), 512))\n",
    "  audio_list = []\n",
    "  dialogue_details = []\n",
    "  transcriptions_by_speaker = {}\n",
    "  for i, segment in enumerate(segments):\n",
    "    audio, embeddings[i] = segment_embedding(segment, embedding_model, PATH)\n",
    "    audio_list.append(audio)\n",
    "  embeddings = np.nan_to_num(embeddings)\n",
    "  clustering = KMeans(num_speakers).fit(embeddings)\n",
    "  labels = clustering.labels_\n",
    "  for i in range(len(segments)):\n",
    "    speaker_id = segments[i][\"speaker\"] = \"SPEAKER_\" + '0' + str(labels[i])\n",
    "    voice_start = segments[i].get(\"start\", \"\")\n",
    "    voice_end = segments[i].get(\"end\", \"\")\n",
    "    voice_text = segments[i].get(\"text\", \"\")\n",
    "    if speaker_id not in transcriptions_by_speaker:\n",
    "      transcriptions_by_speaker[speaker_id] = {\"transcription\": \"\", \"segments\": []}\n",
    "    transcriptions_by_speaker[speaker_id][\"transcription\"] += \" \" + voice_text\n",
    "    transcriptions_by_speaker[speaker_id][\"segments\"].append(audio_list[i])\n",
    "\n",
    "    dialogue_detail = {\"speaker\": speaker_id, \"transcription\": voice_text}\n",
    "    dialogue_details.append(dialogue_detail)\n",
    "    print(f\"speaker: {speaker_id} - start: {voice_start} - end: {voice_end} - text: {voice_text}\" )\n",
    "  return transcriptions_by_speaker, dialogue_details\n"
   ],
   "metadata": {
    "id": "co-jGp76_9Xl",
    "pycharm": {
     "name": "#%%\n"
    }
   },
   "execution_count": 97,
   "outputs": []
  },
  {
   "cell_type": "code",
   "source": [
    "transcriptions_by_speaker, dialogue_details = speech_discriminate(diarization.get(\"segments\", \"\"), embedding_model, 2, PATH)"
   ],
   "metadata": {
    "colab": {
     "base_uri": "https://localhost:8080/"
    },
    "id": "311giErmC6jq",
    "outputId": "a7dd0d30-3567-437f-ae67-5e869e339654",
    "pycharm": {
     "name": "#%%\n"
    }
   },
   "execution_count": 98,
   "outputs": [
    {
     "output_type": "stream",
     "name": "stdout",
     "text": [
      "speaker: SPEAKER_01 - start: 0.0 - end: 6.0 - text:  Good afternoon, thank you for calling the ghost office. My name is Anna, how may I assist you today?\n",
      "speaker: SPEAKER_00 - start: 6.0 - end: 14.0 - text:  Hi Anna, it's Bob. I'm wondering about the cost to send a £50 box of tea from Shanghai to London.\n",
      "speaker: SPEAKER_01 - start: 14.0 - end: 21.0 - text:  Hi Bob, I'd be happy to help with that. Before we proceed, I need to let you know that this call is being recorded.\n",
      "speaker: SPEAKER_01 - start: 21.0 - end: 25.0 - text:  We may contact you in the future to offer further products and services.\n",
      "speaker: SPEAKER_01 - start: 26.0 - end: 31.0 - text:  You always have the option to withdraw from receiving this contact from us. Is that alright with you?\n",
      "speaker: SPEAKER_00 - start: 31.0 - end: 36.0 - text:  Erm, sure, no problem now about the tea.\n",
      "speaker: SPEAKER_01 - start: 36.0 - end: 44.0 - text:  Thank you for your understanding Bob. Now regarding your enquiry, sending a £50 box from Shanghai to London would depend on a few factors,\n",
      "speaker: SPEAKER_01 - start: 44.0 - end: 50.0 - text:  such as the shipping method, delivery speed and any additional services you might require.\n",
      "speaker: SPEAKER_01 - start: 51.0 - end: 57.0 - text:  For an accurate quote, could you please provide me with more details? Are you looking for standard shipping or express?\n",
      "speaker: SPEAKER_01 - start: 57.0 - end: 60.0 - text:  Do you have any specific preferences?\n",
      "speaker: SPEAKER_00 - start: 60.0 - end: 66.0 - text:  Erm, let's go with the standard shipping. It's just regular tea, nothing fancy.\n",
      "speaker: SPEAKER_01 - start: 66.0 - end: 69.0 - text:  Got it Bob, thank you for clarifying.\n",
      "speaker: SPEAKER_01 - start: 69.0 - end: 77.0 - text:  Standard shipping for a £50 box from Shanghai to London typically falls within £100 to £200 based on our current rates.\n",
      "speaker: SPEAKER_01 - start: 77.0 - end: 84.0 - text:  Please note that this is an estimate and the final course may vary based on specific requirements or promotions.\n",
      "speaker: SPEAKER_01 - start: 84.0 - end: 92.0 - text:  I recommend checking our website or visiting your local ghost office branch for the most accurate and up-to-date information.\n",
      "speaker: SPEAKER_00 - start: 92.0 - end: 100.0 - text:  Cool, that sounds fair. I'll check out with the website for more details. Thanks for your help Anna.\n",
      "speaker: SPEAKER_01 - start: 100.0 - end: 107.0 - text:  You're welcome Bob. If you have any more questions or if there is anything else I can assist you with, feel free to ask.\n",
      "speaker: SPEAKER_01 - start: 107.0 - end: 110.0 - text:  Thank you for choosing the ghost office. Have a great day!\n"
     ]
    }
   ]
  },
  {
   "cell_type": "code",
   "source": [
    "transcriptions_by_speaker"
   ],
   "metadata": {
    "colab": {
     "base_uri": "https://localhost:8080/"
    },
    "id": "1QgWyMgTMn5G",
    "outputId": "a7315046-230d-4692-8a75-dfeb2d67d487",
    "pycharm": {
     "name": "#%%\n"
    }
   },
   "execution_count": 99,
   "outputs": [
    {
     "output_type": "execute_result",
     "data": {
      "text/plain": [
       "{'SPEAKER_01': {'transcription': \"  Good afternoon, thank you for calling the ghost office. My name is Anna, how may I assist you today?  Hi Bob, I'd be happy to help with that. Before we proceed, I need to let you know that this call is being recorded.  We may contact you in the future to offer further products and services.  You always have the option to withdraw from receiving this contact from us. Is that alright with you?  Thank you for your understanding Bob. Now regarding your enquiry, sending a £50 box from Shanghai to London would depend on a few factors,  such as the shipping method, delivery speed and any additional services you might require.  For an accurate quote, could you please provide me with more details? Are you looking for standard shipping or express?  Do you have any specific preferences?  Got it Bob, thank you for clarifying.  Standard shipping for a £50 box from Shanghai to London typically falls within £100 to £200 based on our current rates.  Please note that this is an estimate and the final course may vary based on specific requirements or promotions.  I recommend checking our website or visiting your local ghost office branch for the most accurate and up-to-date information.  You're welcome Bob. If you have any more questions or if there is anything else I can assist you with, feel free to ask.  Thank you for choosing the ghost office. Have a great day!\",\n",
       "  'segments': [<pydub.audio_segment.AudioSegment at 0x7e0c12daf1f0>,\n",
       "   <pydub.audio_segment.AudioSegment at 0x7e0c12daf610>,\n",
       "   <pydub.audio_segment.AudioSegment at 0x7e0c12daead0>,\n",
       "   <pydub.audio_segment.AudioSegment at 0x7e0c12daf190>,\n",
       "   <pydub.audio_segment.AudioSegment at 0x7e0c12dafe50>,\n",
       "   <pydub.audio_segment.AudioSegment at 0x7e07eff587f0>,\n",
       "   <pydub.audio_segment.AudioSegment at 0x7e0c12dae230>,\n",
       "   <pydub.audio_segment.AudioSegment at 0x7e08893539d0>,\n",
       "   <pydub.audio_segment.AudioSegment at 0x7e0889353f70>,\n",
       "   <pydub.audio_segment.AudioSegment at 0x7e0889353730>,\n",
       "   <pydub.audio_segment.AudioSegment at 0x7e0889353910>,\n",
       "   <pydub.audio_segment.AudioSegment at 0x7e0889353cd0>,\n",
       "   <pydub.audio_segment.AudioSegment at 0x7e0889353b80>,\n",
       "   <pydub.audio_segment.AudioSegment at 0x7e0889353eb0>]},\n",
       " 'SPEAKER_00': {'transcription': \"  Hi Anna, it's Bob. I'm wondering about the cost to send a £50 box of tea from Shanghai to London.  Erm, sure, no problem now about the tea.  Erm, let's go with the standard shipping. It's just regular tea, nothing fancy.  Cool, that sounds fair. I'll check out with the website for more details. Thanks for your help Anna.\",\n",
       "  'segments': [<pydub.audio_segment.AudioSegment at 0x7e0c12dafa30>,\n",
       "   <pydub.audio_segment.AudioSegment at 0x7e0c12daec80>,\n",
       "   <pydub.audio_segment.AudioSegment at 0x7e0889353640>,\n",
       "   <pydub.audio_segment.AudioSegment at 0x7e0889353af0>]}}"
      ]
     },
     "metadata": {},
     "execution_count": 99
    }
   ]
  },
  {
   "cell_type": "code",
   "source": [
    "dialogue_details"
   ],
   "metadata": {
    "colab": {
     "base_uri": "https://localhost:8080/"
    },
    "id": "EuAmx1JwMucf",
    "outputId": "23875700-39cf-4079-b135-a34d190a45c2",
    "pycharm": {
     "name": "#%%\n"
    }
   },
   "execution_count": 90,
   "outputs": [
    {
     "output_type": "execute_result",
     "data": {
      "text/plain": [
       "[{'speaker': 'SPEAKER_00',\n",
       "  'transcription': ' Good afternoon, thank you for calling the ghost office. My name is Anna, how may I assist you today?'},\n",
       " {'speaker': 'SPEAKER_01',\n",
       "  'transcription': \" Hi Anna, it's Bob. I'm wondering about the cost to send a £50 box of tea from Shanghai to London.\"},\n",
       " {'speaker': 'SPEAKER_00',\n",
       "  'transcription': \" Hi Bob, I'd be happy to help with that. Before we proceed, I need to let you know that this call is being recorded.\"},\n",
       " {'speaker': 'SPEAKER_00',\n",
       "  'transcription': ' We may contact you in the future to offer further products and services.'},\n",
       " {'speaker': 'SPEAKER_00',\n",
       "  'transcription': ' You always have the option to withdraw from receiving this contact from us. Is that alright with you?'},\n",
       " {'speaker': 'SPEAKER_01',\n",
       "  'transcription': ' Erm, sure, no problem now about the tea.'},\n",
       " {'speaker': 'SPEAKER_00',\n",
       "  'transcription': ' Thank you for your understanding Bob. Now regarding your enquiry, sending a £50 box from Shanghai to London would depend on a few factors,'},\n",
       " {'speaker': 'SPEAKER_00',\n",
       "  'transcription': ' such as the shipping method, delivery speed and any additional services you might require.'},\n",
       " {'speaker': 'SPEAKER_00',\n",
       "  'transcription': ' For an accurate quote, could you please provide me with more details? Are you looking for standard shipping or express?'},\n",
       " {'speaker': 'SPEAKER_00',\n",
       "  'transcription': ' Do you have any specific preferences?'},\n",
       " {'speaker': 'SPEAKER_01',\n",
       "  'transcription': \" Erm, let's go with the standard shipping. It's just regular tea, nothing fancy.\"},\n",
       " {'speaker': 'SPEAKER_00',\n",
       "  'transcription': ' Got it Bob, thank you for clarifying.'},\n",
       " {'speaker': 'SPEAKER_00',\n",
       "  'transcription': ' Standard shipping for a £50 box from Shanghai to London typically falls within £100 to £200 based on our current rates.'},\n",
       " {'speaker': 'SPEAKER_00',\n",
       "  'transcription': ' Please note that this is an estimate and the final course may vary based on specific requirements or promotions.'},\n",
       " {'speaker': 'SPEAKER_00',\n",
       "  'transcription': ' I recommend checking our website or visiting your local ghost office branch for the most accurate and up-to-date information.'},\n",
       " {'speaker': 'SPEAKER_01',\n",
       "  'transcription': \" Cool, that sounds fair. I'll check out with the website for more details. Thanks for your help Anna.\"},\n",
       " {'speaker': 'SPEAKER_00',\n",
       "  'transcription': \" You're welcome Bob. If you have any more questions or if there is anything else I can assist you with, feel free to ask.\"},\n",
       " {'speaker': 'SPEAKER_00',\n",
       "  'transcription': ' Thank you for choosing the ghost office. Have a great day!'}]"
      ]
     },
     "metadata": {},
     "execution_count": 90
    }
   ]
  },
  {
   "cell_type": "code",
   "source": [
    "def text_processing_summary(dialogue_details):\n",
    "    conversation = \"\"\n",
    "    for i in range(len(dialogue_details)):\n",
    "        speaker_id = dialogue_details[i].get(\"speaker\")\n",
    "        transcription = dialogue_details[i].get(\"transcription\")\n",
    "        conversation = conversation + speaker_id + \":\" + transcription + \" \"\n",
    "    return conversation"
   ],
   "metadata": {
    "id": "HsceeQ6eNA7K",
    "pycharm": {
     "name": "#%%\n"
    }
   },
   "execution_count": 95,
   "outputs": []
  },
  {
   "cell_type": "code",
   "source": [
    "text_processing_summary(dialogue_details)"
   ],
   "metadata": {
    "colab": {
     "base_uri": "https://localhost:8080/",
     "height": 214
    },
    "id": "-a7PnTX9ND88",
    "outputId": "c3c5878b-a1f5-40ce-ad20-b176a905a958",
    "pycharm": {
     "name": "#%%\n"
    }
   },
   "execution_count": 96,
   "outputs": [
    {
     "output_type": "execute_result",
     "data": {
      "text/plain": [
       "\"SPEAKER_00: Good afternoon, thank you for calling the ghost office. My name is Anna, how may I assist you today? SPEAKER_01: Hi Anna, it's Bob. I'm wondering about the cost to send a £50 box of tea from Shanghai to London. SPEAKER_00: Hi Bob, I'd be happy to help with that. Before we proceed, I need to let you know that this call is being recorded. SPEAKER_00: We may contact you in the future to offer further products and services. SPEAKER_00: You always have the option to withdraw from receiving this contact from us. Is that alright with you? SPEAKER_01: Erm, sure, no problem now about the tea. SPEAKER_00: Thank you for your understanding Bob. Now regarding your enquiry, sending a £50 box from Shanghai to London would depend on a few factors, SPEAKER_00: such as the shipping method, delivery speed and any additional services you might require. SPEAKER_00: For an accurate quote, could you please provide me with more details? Are you looking for standard shipping or express? SPEAKER_00: Do you have any specific preferences? SPEAKER_01: Erm, let's go with the standard shipping. It's just regular tea, nothing fancy. SPEAKER_00: Got it Bob, thank you for clarifying. SPEAKER_00: Standard shipping for a £50 box from Shanghai to London typically falls within £100 to £200 based on our current rates. SPEAKER_00: Please note that this is an estimate and the final course may vary based on specific requirements or promotions. SPEAKER_00: I recommend checking our website or visiting your local ghost office branch for the most accurate and up-to-date information. SPEAKER_01: Cool, that sounds fair. I'll check out with the website for more details. Thanks for your help Anna. SPEAKER_00: You're welcome Bob. If you have any more questions or if there is anything else I can assist you with, feel free to ask. SPEAKER_00: Thank you for choosing the ghost office. Have a great day! \""
      ],
      "application/vnd.google.colaboratory.intrinsic+json": {
       "type": "string"
      }
     },
     "metadata": {},
     "execution_count": 96
    }
   ]
  }
 ],
 "metadata": {
  "colab": {
   "provenance": [],
   "gpuType": "T4"
  },
  "kernelspec": {
   "display_name": "Python 3",
   "name": "python3"
  },
  "language_info": {
   "name": "python"
  },
  "accelerator": "GPU"
 },
 "nbformat": 4,
 "nbformat_minor": 0
}